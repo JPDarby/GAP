{
 "cells": [
  {
   "cell_type": "code",
   "execution_count": 5,
   "metadata": {},
   "outputs": [],
   "source": [
    "fname = \"/home/jpd47/proj/fortran/radial_basis/shit.txt\"\n",
    "data = []\n",
    "with open(fname, \"r\") as f:\n",
    "    for line in f:\n",
    "        data.append(line.split())"
   ]
  },
  {
   "cell_type": "code",
   "execution_count": 6,
   "metadata": {},
   "outputs": [
    {
     "name": "stdout",
     "output_type": "stream",
     "text": [
      "['jpd47', 'in', 'fixed', '-3.9082160026290871', '-3.9082160026290871', '-3.9082160026290871']\n"
     ]
    }
   ],
   "source": [
    "print(data[0])"
   ]
  },
  {
   "cell_type": "code",
   "execution_count": 7,
   "metadata": {},
   "outputs": [
    {
     "name": "stdout",
     "output_type": "stream",
     "text": [
      "163 ['jpd47', 'in', 'fixed', '1.0000000000000000', '-3.9082160026290871', '-3.9082160026290871']\n",
      "3554 ['jpd47', 'in', 'fixed', '1.0000000000000000', '-3.9082160026290871', '-3.9082160026290871']\n",
      "8354 ['jpd47', 'in', 'fixed', '-3.9082160026290871', '-3.9082160026290871', '1.0000000000000000']\n",
      "8448 ['jpd47', 'in', 'fixed', '-3.9082160026290871', '-3.9082160026290871', '1.0000000000000000']\n"
     ]
    }
   ],
   "source": [
    "for i, line in enumerate(data):\n",
    "    if float(line[-1]) != float(line[3]):\n",
    "        print(i, line)"
   ]
  },
  {
   "cell_type": "code",
   "execution_count": null,
   "metadata": {},
   "outputs": [],
   "source": []
  }
 ],
 "metadata": {
  "kernelspec": {
   "display_name": "compress_omp",
   "language": "python",
   "name": "python3"
  },
  "language_info": {
   "codemirror_mode": {
    "name": "ipython",
    "version": 3
   },
   "file_extension": ".py",
   "mimetype": "text/x-python",
   "name": "python",
   "nbconvert_exporter": "python",
   "pygments_lexer": "ipython3",
   "version": "3.9.7"
  },
  "orig_nbformat": 4,
  "vscode": {
   "interpreter": {
    "hash": "322fcdc34fe46504b85afd9aeb7a37d5c49f475ef6554df86351c75035d267a9"
   }
  }
 },
 "nbformat": 4,
 "nbformat_minor": 2
}
