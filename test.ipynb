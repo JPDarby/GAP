{
 "cells": [
  {
   "cell_type": "code",
   "execution_count": 1,
   "metadata": {},
   "outputs": [],
   "source": [
    "import numpy as np"
   ]
  },
  {
   "cell_type": "code",
   "execution_count": 7,
   "metadata": {},
   "outputs": [],
   "source": [
    "fname = \"descriptors.f95\"\n",
    "data = []\n",
    "collect = False\n",
    "with open(fname, \"r\") as f:\n",
    "    i  = 1\n",
    "    for line in f:\n",
    "        if \"subroutine\" in line and \"soap_calc\" in line:\n",
    "            collect = not collect\n",
    "        if collect:\n",
    "            data.append(str(i) + \"  \" + line.strip())\n",
    "        i += 1"
   ]
  },
  {
   "cell_type": "code",
   "execution_count": 8,
   "metadata": {},
   "outputs": [
    {
     "data": {
      "text/plain": [
       "['subroutine soap_calc(this,at,descriptor_out,do_descriptor,do_grad_descriptor,args_str,error)',\n",
       " '',\n",
       " 'type real_2d_array',\n",
       " 'type(real_2d), dimension(:,:,:), allocatable :: x',\n",
       " 'endtype real_2d_array',\n",
       " '',\n",
       " 'type real_2d_2d',\n",
       " 'type(real_2d), dimension(:,:), allocatable :: x',\n",
       " 'endtype real_2d_2d',\n",
       " '']"
      ]
     },
     "execution_count": 8,
     "metadata": {},
     "output_type": "execute_result"
    }
   ],
   "source": [
    "data[:10]"
   ]
  },
  {
   "cell_type": "code",
   "execution_count": 11,
   "metadata": {},
   "outputs": [
    {
     "name": "stdout",
     "output_type": "stream",
     "text": [
      "99 0\n"
     ]
    }
   ],
   "source": [
    "n_end = 0\n",
    "n_i = 0\n",
    "\n",
    "ifs = []\n",
    "pairs = []\n",
    "\n",
    "for i, line in enumerate(data):\n",
    "    if \"if\" in line.lower() and \"then\" in line.lower():\n",
    "        n_i += 1\n",
    "        ifs.append(i)\n",
    "    if \"endif\" in line.lower():\n",
    "        pair = [ifs.pop(), i]\n",
    "        pairs.append(pair)\n",
    "print(n_i, n_end)\n"
   ]
  },
  {
   "cell_type": "code",
   "execution_count": 16,
   "metadata": {},
   "outputs": [
    {
     "name": "stdout",
     "output_type": "stream",
     "text": [
      "if(my_do_grad_descriptor) then\n",
      "if (this%global) then\n",
      "if (my_do_grad_descriptor) then\n",
      "if(this%global) then\n",
      "[[80, 82], [84, 86], [88, 90], [126, 130], [151, 153], [158, 160], [157, 163], [141, 165], [168, 172], [167, 175], [192, 197], [235, 238], [253, 257], [260, 282], [251, 292], [303, 305], [311, 318], [319, 335], [310, 336], [344, 348], [355, 359], [352, 362], [367, 371], [382, 388], [405, 417], [363, 430], [351, 434], [451, 455], [458, 461], [469, 487], [462, 488], [457, 489], [504, 508], [527, 531], [537, 544], [554, 564], [572, 577], [566, 578], [553, 579], [612, 624], [626, 652], [668, 677], [661, 687], [690, 703], [728, 734], [717, 739], [745, 747], [766, 772], [710, 781], [787, 791], [786, 793], [814, 817], [829, 833], [854, 858], [883, 886], [887, 890], [845, 897], [901, 909], [900, 911], [806, 913], [936, 945], [948, 957], [958, 967], [969, 974], [976, 981], [995, 1005], [1011, 1020], [1022, 1033], [1035, 1042], [1089, 1095], [1078, 1100], [1106, 1108], [1128, 1134], [1071, 1143], [1152, 1156], [1151, 1158], [1199, 1202], [1214, 1218], [1239, 1243], [1268, 1271], [1272, 1275], [1230, 1282], [1285, 1292], [1191, 1298], [1161, 1301], [1308, 1317], [1306, 1320], [1324, 1333], [1322, 1336], [1341, 1350], [1339, 1353], [1358, 1367], [1355, 1371], [1376, 1383], [1385, 1394]]\n"
     ]
    }
   ],
   "source": [
    "for p in ifs:\n",
    "    print(data[p])\n",
    "print(pairs)"
   ]
  },
  {
   "cell_type": "code",
   "execution_count": null,
   "metadata": {},
   "outputs": [],
   "source": []
  }
 ],
 "metadata": {
  "kernelspec": {
   "display_name": "Python 3.9.7 ('compress_omp')",
   "language": "python",
   "name": "python3"
  },
  "language_info": {
   "codemirror_mode": {
    "name": "ipython",
    "version": 3
   },
   "file_extension": ".py",
   "mimetype": "text/x-python",
   "name": "python",
   "nbconvert_exporter": "python",
   "pygments_lexer": "ipython3",
   "version": "3.9.7"
  },
  "orig_nbformat": 4,
  "vscode": {
   "interpreter": {
    "hash": "322fcdc34fe46504b85afd9aeb7a37d5c49f475ef6554df86351c75035d267a9"
   }
  }
 },
 "nbformat": 4,
 "nbformat_minor": 2
}
