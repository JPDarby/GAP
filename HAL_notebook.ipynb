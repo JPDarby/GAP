{
 "cells": [
  {
   "cell_type": "code",
   "execution_count": null,
   "metadata": {},
   "outputs": [],
   "source": [
    "import os\n",
    "os.environ['JULIA_PROJECT']=\"/home/jpd47/proj/HAL/Project.toml\""
   ]
  },
  {
   "cell_type": "code",
   "execution_count": null,
   "metadata": {},
   "outputs": [],
   "source": [
    "\n",
    "import ase\n",
    "from ase import Atoms\n",
    "from sklearn.linear_model import BayesianRidge, ARDRegression\n",
    "#from ase.calculators.castep import Castep\n",
    "from ase.io import read, write\n",
    "import quippy\n",
    "from quippy.potential import Potential\n",
    "from pathlib import Path\n",
    "from ACEHAL.HAL import HAL"
   ]
  },
  {
   "cell_type": "code",
   "execution_count": null,
   "metadata": {},
   "outputs": [],
   "source": [
    "\n",
    "\n",
    "fit_configs = read(\"/home/jpd47/proj/HAL/0_conv.xyz\", \":\")\n",
    "\n",
    "calculator = Potential(param_filename=\"/home/jpd47/proj/HAL/gap_pot/n_max-8__l_max-4__radial_basis-EQUISPACED_GAUSS__n_sparse-1600.xml\")\n",
    "\n",
    "E0s = { \"Fe\" : -3.09707575, \"Ni\" : -0.52326479, \"Cr\" : -5.4579557 }\n",
    "data_keys = { \"E\" : \"energy\", \"F\" : \"forces\", \"V\" : \"virial\", \"Fmax\" : 20.0 }\n",
    "weights = { \"E\" : 1.0, \"F\" : 1.0 ,\"V\": 1.0 }\n",
    "#weights = { \"E_per_atom\": 1.0 / 0.001, \"F\": 1.0 / 0.1, \"V_per_atom\": 1.0 / 0.01 }\n",
    "\n",
    "solver = ARDRegression(threshold_lambda=10000, fit_intercept=True, compute_score=True)\n",
    "#solver = BayesianRidge(fit_intercept=True, compute_score=True)\n",
    "\n",
    "fit_kwargs={\"E0s\": E0s, \"data_keys\": data_keys, \"weights\": weights}\n",
    "\n",
    "fixed_basis_info = {\"elements\": list(E0s.keys()), \"smoothness_prior\" : [\"algebraic\", 2] }\n",
    "optimize_params = {\"cor_order\": (\"int\", (2, 3)), \"maxdeg\": (\"int\", (3, 10)), \"r_cut\": (\"float\", (5.5, 8.0))}\n",
    "\n",
    "HAL(fit_configs, fit_configs, None, solver,\n",
    "            fit_kwargs={\"E0s\": E0s, \"data_keys\": data_keys, \"weights\": weights},\n",
    "            n_iters=100, traj_len=2000, tol=0.2, tol_eps=0.2, tau_rel=0.2,\n",
    "            ref_calc=calculator, dt=1.0, T_K=600, T_tau=100, P_GPa=1.0,\n",
    "            basis_optim_kwargs={\"n_trials\": 20,\n",
    "                                \"timeout\" : 10000,\n",
    "                                \"max_basis_len\": 100000,\n",
    "                                \"fixed_basis_info\": fixed_basis_info,\n",
    "                                \"optimize_params\": optimize_params},\n",
    "            basis_optim_interval=1, file_root=\"test_HAL\",\n",
    "            test_fraction=0.1)"
   ]
  }
 ],
 "metadata": {
  "kernelspec": {
   "display_name": "compress_omp",
   "language": "python",
   "name": "python3"
  },
  "language_info": {
   "name": "python",
   "version": "3.9.7 (default, Sep 16 2021, 13:09:58) \n[GCC 7.5.0]"
  },
  "orig_nbformat": 4,
  "vscode": {
   "interpreter": {
    "hash": "322fcdc34fe46504b85afd9aeb7a37d5c49f475ef6554df86351c75035d267a9"
   }
  }
 },
 "nbformat": 4,
 "nbformat_minor": 2
}
