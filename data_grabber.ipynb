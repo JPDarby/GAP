{
 "cells": [
  {
   "cell_type": "code",
   "execution_count": 1,
   "metadata": {},
   "outputs": [],
   "source": [
    "import os\n",
    "os.environ['JULIA_PROJECT']=\"/home/jpd47/proj/HAL/Project.toml\""
   ]
  },
  {
   "cell_type": "code",
   "execution_count": 59,
   "metadata": {},
   "outputs": [],
   "source": [
    "\n",
    "import ase\n",
    "from ase import Atoms\n",
    "from sklearn.linear_model import BayesianRidge, ARDRegression\n",
    "#from ase.calculators.castep import Castep\n",
    "from ase.io import read, write\n",
    "#from ACEHAL.HAL import HAL\n",
    "from pathlib import Path"
   ]
  },
  {
   "cell_type": "markdown",
   "metadata": {},
   "source": [
    "# Get E0s and pick initial config"
   ]
  },
  {
   "cell_type": "code",
   "execution_count": 26,
   "metadata": {},
   "outputs": [
    {
     "name": "stdout",
     "output_type": "stream",
     "text": [
      "dict_keys(['config_type', 'config_name', 'energy', 'virial'])\n"
     ]
    }
   ],
   "source": [
    "fname = \"/data/jpd47/FeNiCr/Lakshmi_new/db10.xyz\"\n",
    "strucs = read(fname, index=\":\")\n",
    "print(strucs[10].info.keys())"
   ]
  },
  {
   "cell_type": "code",
   "execution_count": 27,
   "metadata": {},
   "outputs": [
    {
     "name": "stdout",
     "output_type": "stream",
     "text": [
      "Cr -5.4579557\n",
      "Fe -3.09707575\n",
      "Ni -0.52326479\n"
     ]
    }
   ],
   "source": [
    "atoms = [s for s in strucs if len(s) == 1]\n",
    "for a in atoms:\n",
    "    print(a.symbols, a.info[\"energy\"])"
   ]
  },
  {
   "cell_type": "code",
   "execution_count": 28,
   "metadata": {},
   "outputs": [
    {
     "name": "stdout",
     "output_type": "stream",
     "text": [
      "[-2056.90011549, -2056.45079759, -2055.90117573, -2055.66665719, -2055.63784995, -2055.48533593, -2055.30382152, -2055.16978469, -2055.12127745, -2055.09732296]\n"
     ]
    },
    {
     "name": "stderr",
     "output_type": "stream",
     "text": [
      "/home/jpd47/.local/lib/python3.10/site-packages/ase/io/extxyz.py:1000: UserWarning: write_xyz() overwriting array \"magmoms\" present in atoms.arrays with stored results from calculator\n",
      "  warnings.warn('write_xyz() overwriting array \"{0}\" present '\n"
     ]
    }
   ],
   "source": [
    "configs = set([s.info[\"config_type\"] for s in strucs])\n",
    "bulk_md = [s for s in strucs if s.info[\"config_type\"] == \"bulk_md\"]\n",
    "bulk_md = sorted(bulk_md, key = lambda s: s.info[\"energy\"])\n",
    "Es = [s.info[\"energy\"] for s in bulk_md]\n",
    "print(Es[:10])\n",
    "clean = bulk_md[0]\n",
    "write(\"/home/jpd47/proj/HAL/initial/choice.xyz\", [choice])"
   ]
  },
  {
   "cell_type": "markdown",
   "metadata": {},
   "source": [
    "# Get calculator working"
   ]
  },
  {
   "cell_type": "code",
   "execution_count": 8,
   "metadata": {},
   "outputs": [],
   "source": [
    "import quippy\n",
    "from quippy.potential import Potential\n",
    "from quippy.descriptors import Descriptor"
   ]
  },
  {
   "cell_type": "code",
   "execution_count": 39,
   "metadata": {},
   "outputs": [
    {
     "name": "stdout",
     "output_type": "stream",
     "text": [
      "WARNING: Potential_initialise using default init_args \"Potential xml_label=GAP_2023_2_21_0_14_12_51_935\"\n"
     ]
    }
   ],
   "source": [
    "calculator = Potential(param_filename=\"/home/jpd47/proj/HAL/gap_pot/n_max-8__l_max-4__radial_basis-EQUISPACED_GAUSS__n_sparse-1600.xml\")"
   ]
  },
  {
   "cell_type": "code",
   "execution_count": 61,
   "metadata": {},
   "outputs": [
    {
     "name": "stdout",
     "output_type": "stream",
     "text": [
      "[[106.00405799  -7.12294552  -5.23478852]\n",
      " [ -7.12294552  82.2448829   -6.2225932 ]\n",
      " [ -5.23478852  -6.2225932  103.02775234]]\n"
     ]
    },
    {
     "name": "stderr",
     "output_type": "stream",
     "text": [
      "/home/jpd47/.local/lib/python3.10/site-packages/ase/io/extxyz.py:1000: UserWarning: write_xyz() overwriting array \"forces\" present in atoms.arrays with stored results from calculator\n",
      "  warnings.warn('write_xyz() overwriting array \"{0}\" present '\n"
     ]
    }
   ],
   "source": [
    "clean = ase.Atoms(choice.numbers, choice.positions, cell=choice.cell, pbc=True)\n",
    "clean.set_calculator(calculator)\n",
    "E = clean.get_potential_energy()\n",
    "forces = clean.get_forces()\n",
    "stress = clean.get_stress(voigt=False)\n",
    "virial = clean.get_volume()*-1*stress\n",
    "print(virial)\n",
    "clean.info[\"virial\"] = virial\n",
    "clean.arrays[\"forces\"] = clean._calc.results[\"forces\"]\n",
    "write(\"/home/jpd47/proj/HAL/0_conv.xyz\", [clean])"
   ]
  },
  {
   "cell_type": "code",
   "execution_count": 65,
   "metadata": {},
   "outputs": [
    {
     "data": {
      "text/plain": [
       "<matplotlib.collections.PathCollection at 0x7f8f044888e0>"
      ]
     },
     "execution_count": 65,
     "metadata": {},
     "output_type": "execute_result"
    },
    {
     "data": {
      "image/png": "[encoded data removed]",
      "text/plain": [
       "<Figure size 640x480 with 1 Axes>"
      ]
     },
     "metadata": {},
     "output_type": "display_data"
    }
   ],
   "source": [
    "force = clean._calc.results[\"forces\"].flatten()\n",
    "choice = read(\"/home/jpd47/proj/HAL/initial/choice.xyz\")\n",
    "forces = choice.arrays[\"force\"].flatten()\n",
    "import matplotlib.pyplot as plt\n",
    "fig, ax = plt.subplots()\n",
    "ax.scatter(forces, force)"
   ]
  },
  {
   "cell_type": "markdown",
   "metadata": {},
   "source": [
    "# HAL"
   ]
  },
  {
   "cell_type": "code",
   "execution_count": null,
   "metadata": {},
   "outputs": [],
   "source": [
    "\n",
    "\n",
    "fit_configs = read(\"../0_conv.xyz\", \":\")\n",
    "\n",
    "# calculator = Castep()\n",
    "\n",
    "# calculator._directory=\"./_CASTEP\"\n",
    "# calculator.param.cut_off_energy=500\n",
    "# calculator.param.mixing_scheme='Pulay'\n",
    "# calculator.param.write_checkpoint='none'\n",
    "# calculator.param.finite_basis_corr='automatic'\n",
    "# calculator.param.calculate_stress=True\n",
    "# calculator.cell.kpoints_mp_spacing=0.04\n",
    "\n",
    "E0s = { \"Fe\" : -3.09707575, \"Ni\" : -0.52326479, \"Cr\" : -5.4579557 }\n",
    "data_keys = { \"E\" : \"energy\", \"F\" : \"forces\", \"V\" : \"virial\", \"Fmax\" : 20.0 }\n",
    "weights = { \"E\" : 1.0, \"F\" : 1.0 ,\"V\": 1.0 }\n",
    "#weights = { \"E_per_atom\": 1.0 / 0.001, \"F\": 1.0 / 0.1, \"V_per_atom\": 1.0 / 0.01 }\n",
    "\n",
    "solver = ARDRegression(threshold_lambda=10000, fit_intercept=True, compute_score=True)\n",
    "#solver = BayesianRidge(fit_intercept=True, compute_score=True)\n",
    "\n",
    "fit_kwargs={\"E0s\": E0s, \"data_keys\": data_keys, \"weights\": weights}\n",
    "\n",
    "fixed_basis_info = {\"elements\": list(E0s.keys()), \"smoothness_prior\" : [\"algebraic\", 2] }\n",
    "optimize_params = {\"cor_order\": (\"int\", (2, 3)), \"maxdeg\": (\"int\", (3, 10)), \"r_cut\": (\"float\", (5.5, 8.0))}\n",
    "\n",
    "HAL(fit_configs, fit_configs, None, solver,\n",
    "            fit_kwargs={\"E0s\": E0s, \"data_keys\": data_keys, \"weights\": weights},\n",
    "            n_iters=100, traj_len=2000, tol=0.2, tol_eps=0.2, tau_rel=0.2,\n",
    "            ref_calc=calculator, dt=1.0, T_K=600, T_tau=100, P_GPa=1.0,\n",
    "            basis_optim_kwargs={\"n_trials\": 20,\n",
    "                                \"timeout\" : 10000,\n",
    "                                \"max_basis_len\": 100000,\n",
    "                                \"fixed_basis_info\": fixed_basis_info,\n",
    "                                \"optimize_params\": optimize_params},\n",
    "            basis_optim_interval=1, file_root=\"test_HAL\",\n",
    "            test_fraction=0.1)"
   ]
  }
 ],
 "metadata": {
  "kernelspec": {
   "display_name": "HAL",
   "language": "python",
   "name": "python3"
  },
  "language_info": {
   "codemirror_mode": {
    "name": "ipython",
    "version": 3
   },
   "file_extension": ".py",
   "mimetype": "text/x-python",
   "name": "python",
   "nbconvert_exporter": "python",
   "pygments_lexer": "ipython3",
   "version": "3.10.9"
  },
  "orig_nbformat": 4,
  "vscode": {
   "interpreter": {
    "hash": "c563ee13e5c0a0956b6fd9c7f903443042fde1ef0afea7d189ae473a3c690610"
   }
  }
 },
 "nbformat": 4,
 "nbformat_minor": 2
}
